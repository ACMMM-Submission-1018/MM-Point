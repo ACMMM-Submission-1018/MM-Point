{
 "cells": [
  {
   "cell_type": "code",
   "execution_count": 1,
   "id": "bb4a298f-71ef-4ef5-94b5-cfc6e35ff2d6",
   "metadata": {},
   "outputs": [
    {
     "name": "stderr",
     "output_type": "stream",
     "text": [
      "/usr/local/lib/python3.8/dist-packages/tqdm/auto.py:22: TqdmWarning: IProgress not found. Please update jupyter and ipywidgets. See https://ipywidgets.readthedocs.io/en/stable/user_install.html\n",
      "  from .autonotebook import tqdm as notebook_tqdm\n"
     ]
    }
   ],
   "source": [
    "import argparse\n",
    "import glob\n",
    "import random\n",
    "import numpy as np\n",
    "from sklearn.svm import SVC\n",
    "import matplotlib.pyplot as plt\n",
    "\n",
    "import torch\n",
    "from torch import nn\n",
    "from torch.utils.data import DataLoader\n",
    "import torch.nn.functional as F\n",
    "\n",
    "\n",
    "parser = argparse.ArgumentParser(description='Point Cloud Recognition')\n",
    "parser.add_argument('--num_points', type=int, default=1024,\n",
    "                    help='num of points to use')\n",
    "parser.add_argument('--emb_dims', type=int, default=1024, metavar='N',\n",
    "                    help='Dimension of embeddings')\n",
    "parser.add_argument('--k', type=int, default=15, metavar='N',\n",
    "                        help='Num of nearest neighbors to use')\n",
    "parser.add_argument('--dropout', type=float, default=0.5,\n",
    "                        help='dropout rate')\n",
    "args = parser.parse_args(\"\")"
   ]
  },
  {
   "cell_type": "code",
   "execution_count": 2,
   "id": "406def43-a219-476a-a5f0-233164e73672",
   "metadata": {},
   "outputs": [],
   "source": [
    "def knn(x, k):\n",
    "    inner = -2 * torch.matmul(x.transpose(2, 1), x)\n",
    "    xx = torch.sum(x ** 2, dim=1, keepdim=True)\n",
    "    pairwise_distance = -xx - inner - xx.transpose(2, 1)\n",
    "\n",
    "    idx = pairwise_distance.topk(k=k, dim=-1)[1]  \n",
    "    return idx\n",
    "\n",
    "\n",
    "def get_graph_feature(x,device, k=20,idx = None):\n",
    "\n",
    "    batch_size = x.size(0)\n",
    "    num_points = x.size(2)\n",
    "    x = x.view(batch_size, -1, num_points)\n",
    "\n",
    "    if idx is None:\n",
    "        idx = knn(x, k=k) \n",
    "\n",
    "\n",
    "    idx_base = torch.arange(0, batch_size, device=device).view(-1, 1, 1) * num_points\n",
    "\n",
    "    idx = idx + idx_base\n",
    "\n",
    "    idx = idx.view(-1)\n",
    "\n",
    "    _, num_dims, _ = x.size()\n",
    "\n",
    "    x = x.transpose(2,\n",
    "                    1).contiguous()  \n",
    "    feature = x.view(batch_size * num_points, -1)[idx, :]\n",
    "    feature = feature.view(batch_size, num_points, k, num_dims)\n",
    "    x = x.view(batch_size, num_points, 1, num_dims).repeat(1, 1, k, 1)\n",
    "\n",
    "    feature = torch.cat((feature - x, x), dim=3).permute(0, 3, 1, 2).contiguous()\n",
    "\n",
    "    return feature\n",
    "\n",
    "\n",
    "class DGCNN(nn.Module):\n",
    "    def __init__(self, args, cls=-1):\n",
    "        super(DGCNN, self).__init__()\n",
    "        self.args = args\n",
    "        self.k = args.k\n",
    "\n",
    "        self.bn1 = nn.BatchNorm2d(64)\n",
    "        self.bn2 = nn.BatchNorm2d(64)\n",
    "        self.bn3 = nn.BatchNorm2d(128)\n",
    "        self.bn4 = nn.BatchNorm2d(256)\n",
    "        self.bn5 = nn.BatchNorm1d(args.emb_dims)\n",
    "\n",
    "        self.conv1 = nn.Sequential(nn.Conv2d(6, 64, kernel_size=1, bias=False),\n",
    "                                   self.bn1,\n",
    "                                   nn.LeakyReLU(negative_slope=0.2))\n",
    "        self.conv2 = nn.Sequential(nn.Conv2d(64 * 2, 64, kernel_size=1, bias=False),\n",
    "                                   self.bn2,\n",
    "                                   nn.LeakyReLU(negative_slope=0.2))\n",
    "        self.conv3 = nn.Sequential(nn.Conv2d(64 * 2, 128, kernel_size=1, bias=False),\n",
    "                                   self.bn3,\n",
    "                                   nn.LeakyReLU(negative_slope=0.2))\n",
    "        self.conv4 = nn.Sequential(nn.Conv2d(128 * 2, 256, kernel_size=1, bias=False),\n",
    "                                   self.bn4,\n",
    "                                   nn.LeakyReLU(negative_slope=0.2))\n",
    "        self.conv5 = nn.Sequential(nn.Conv1d(512, args.emb_dims, kernel_size=1, bias=False),\n",
    "                                   self.bn5,\n",
    "                                   nn.LeakyReLU(negative_slope=0.2))\n",
    "\n",
    "        if cls != -1:\n",
    "            self.linear1 = nn.Linear(args.emb_dims * 2, 512, bias=False)\n",
    "            self.bn6 = nn.BatchNorm1d(512)\n",
    "            self.dp1 = nn.Dropout(p=args.dropout)\n",
    "            self.linear2 = nn.Linear(512, 256)\n",
    "            self.bn7 = nn.BatchNorm1d(256)\n",
    "            self.dp2 = nn.Dropout(p=args.dropout)\n",
    "            self.linear3 = nn.Linear(256, output_channels)\n",
    "        \n",
    "        self.cls = cls\n",
    "\n",
    "        self.inv_head = nn.Sequential(\n",
    "            nn.Linear(args.emb_dims * 2, args.emb_dims),\n",
    "            nn.BatchNorm1d(args.emb_dims),\n",
    "            nn.ReLU(inplace=True),\n",
    "            nn.Linear(args.emb_dims, 512)\n",
    "        )\n",
    "\n",
    "        self.inv_head1 = nn.Sequential(\n",
    "            nn.Linear(args.emb_dims * 2, args.emb_dims),\n",
    "            nn.BatchNorm1d(args.emb_dims),\n",
    "            nn.ReLU(inplace=True),\n",
    "            nn.Linear(args.emb_dims, 128)\n",
    "        )\n",
    "\n",
    "\n",
    "    def forward(self, x):\n",
    "        batch_size = x.size(0)\n",
    "        device = x.device\n",
    "        x = get_graph_feature(x,device,k=self.k)\n",
    "        x = self.conv1(x)\n",
    "        x1 = x.max(dim=-1, keepdim=False)[0]\n",
    "\n",
    "        x = get_graph_feature(x1,device,k=self.k)\n",
    "        x = self.conv2(x)\n",
    "        x2 = x.max(dim=-1, keepdim=False)[0]\n",
    "\n",
    "        x = get_graph_feature(x2,device,k=self.k)\n",
    "        x = self.conv3(x)\n",
    "        x3 = x.max(dim=-1, keepdim=False)[0]\n",
    "\n",
    "        x = get_graph_feature(x3,device,k=self.k)\n",
    "        x = self.conv4(x)\n",
    "        x4 = x.max(dim=-1, keepdim=False)[0]\n",
    "\n",
    "        x = torch.cat((x1, x2, x3, x4), dim=1)\n",
    "\n",
    "        x = self.conv5(x)\n",
    "        x1 = F.adaptive_max_pool1d(x, 1).view(batch_size, -1)\n",
    "        x2 = F.adaptive_avg_pool1d(x, 1).view(batch_size, -1)\n",
    "        x = torch.cat((x1, x2), 1)\n",
    "\n",
    "        feat = x\n",
    "        inv_feat = self.inv_head(feat) #512\n",
    "\n",
    "        inv_feat1 = self.inv_head1(feat) #128\n",
    "\n",
    "        return x, inv_feat, inv_feat1, feat"
   ]
  },
  {
   "cell_type": "code",
   "execution_count": 4,
   "id": "cc7b0130-020b-4c92-9b4f-3c734bc2bd45",
   "metadata": {
    "pycharm": {
     "is_executing": true
    }
   },
   "outputs": [
    {
     "data": {
      "text/plain": [
       "<All keys matched successfully>"
      ]
     },
     "execution_count": 4,
     "metadata": {},
     "output_type": "execute_result"
    }
   ],
   "source": [
    "\n",
    "device = torch.device(\"cuda\") \n",
    "\n",
    "net_self = torch.load('./best_scanObjectnn.pth')\n",
    "\n",
    "model_self = DGCNN(args)\n",
    "model_self = torch.nn.DataParallel(model_self)\n",
    "model_self = model_self.to(device=device)\n",
    "\n",
    "model_self.load_state_dict(net_self['state_dict'], strict=False)"
   ]
  },
  {
   "cell_type": "code",
   "execution_count": null,
   "id": "1253d262-dfa3-4bf2-9a83-c7d3e9efa857",
   "metadata": {},
   "outputs": [],
   "source": []
  },
  {
   "cell_type": "code",
   "execution_count": 5,
   "id": "74a4bcc6-4acc-461c-b12a-65c86ac78e87",
   "metadata": {},
   "outputs": [],
   "source": [
    "from torch.utils.data import Dataset\n",
    "import os\n",
    "import sys\n",
    "import h5py\n",
    "\n",
    "def load_ScanObjectNN(partition):\n",
    "    BASE_DIR = 'data/ScanObjectNN'\n",
    "    DATA_DIR = os.path.join(BASE_DIR, 'main_split')\n",
    "    h5_name = os.path.join(DATA_DIR, f'{partition}.h5')\n",
    "    f = h5py.File(h5_name)\n",
    "    data = f['data'][:].astype('float32')\n",
    "    label = f['label'][:].astype('int64')\n",
    "\n",
    "    return data, label\n",
    "\n",
    "class ScanObjectNNSVM(Dataset):\n",
    "    def __init__(self, num_points, partition='train'):\n",
    "        self.data, self.label = load_ScanObjectNN(partition)\n",
    "        self.num_points = num_points\n",
    "        self.partition = partition\n",
    "\n",
    "    def __getitem__(self, item):\n",
    "        pointcloud = self.data[item][:self.num_points]\n",
    "        label = self.label[item]\n",
    "        return pointcloud, label\n",
    "\n",
    "    def __len__(self):\n",
    "        return self.data.shape[0]\n"
   ]
  },
  {
   "cell_type": "markdown",
   "id": "04c7743b-f0f9-4bcb-81e4-f8da2cf585ba",
   "metadata": {},
   "source": [
    "# Feature extraction on ScanObjectNN"
   ]
  },
  {
   "cell_type": "code",
   "execution_count": 6,
   "id": "9d0dc924-2763-450d-b9b9-bcb171802f42",
   "metadata": {},
   "outputs": [
    {
     "name": "stdout",
     "output_type": "stream",
     "text": [
      "Done !!\n"
     ]
    }
   ],
   "source": [
    "train_loader = DataLoader(ScanObjectNNSVM(partition='train', num_points=args.num_points),\n",
    "                              batch_size=64, shuffle=True)\n",
    "test_loader = DataLoader(ScanObjectNNSVM(partition='test', num_points=args.num_points),\n",
    "                              batch_size=64, shuffle=True)\n",
    "print('Done !!')"
   ]
  },
  {
   "cell_type": "markdown",
   "id": "706ee9d8-6a97-452e-9987-8042eae5b90f",
   "metadata": {},
   "source": [
    "# Load Train Feats"
   ]
  },
  {
   "cell_type": "code",
   "execution_count": 7,
   "id": "89241966-45c3-45ec-a6d0-94e40cb8e0dd",
   "metadata": {},
   "outputs": [
    {
     "name": "stdout",
     "output_type": "stream",
     "text": [
      "(2309, 2048)\n",
      "[3 6 3 ... 9 4 5]\n"
     ]
    }
   ],
   "source": [
    "import random\n",
    "\n",
    "feats_train = []\n",
    "labels_train = []\n",
    "model = model_self.to(device)\n",
    "model = model.eval()\n",
    "\n",
    "for i, (data, label) in enumerate(train_loader):\n",
    "\n",
    "    labels = label.numpy().tolist()\n",
    "    data = data.permute(0, 2, 1).to(device)\n",
    "    with torch.no_grad():\n",
    "        feats = model(data)[3]\n",
    "    feats = feats.detach().cpu().numpy()\n",
    "    for feat in feats:\n",
    "        feats_train.append(feat)\n",
    "    labels_train += labels\n",
    "\n",
    "feats_train = np.array(feats_train)\n",
    "labels_train = np.array(labels_train)\n",
    "print(feats_train.shape)\n",
    "print(labels_train)"
   ]
  },
  {
   "cell_type": "markdown",
   "id": "84930173-3beb-4ed2-9efa-5a343f128df3",
   "metadata": {},
   "source": [
    "# Load Test Feats"
   ]
  },
  {
   "cell_type": "code",
   "execution_count": 8,
   "id": "8d1045cc-2a11-41b9-8a6c-b2851fa2c685",
   "metadata": {},
   "outputs": [
    {
     "data": {
      "text/plain": [
       "(581, 2048)"
      ]
     },
     "execution_count": 8,
     "metadata": {},
     "output_type": "execute_result"
    }
   ],
   "source": [
    "import random\n",
    "\n",
    "feats_test = []\n",
    "labels_test = []\n",
    "model = model_self.to(device)\n",
    "model = model.eval()\n",
    "\n",
    "for i, (data, label) in enumerate(test_loader):\n",
    "\n",
    "    labels = label.numpy().tolist()\n",
    "    data = data.permute(0, 2, 1).to(device)\n",
    "    with torch.no_grad():\n",
    "        feats = model(data)[3]\n",
    "    feats = feats.detach().cpu().numpy()\n",
    "    for feat in feats:\n",
    "        feats_test.append(feat)\n",
    "\n",
    "    labels_test += labels\n",
    "\n",
    "feats_test = np.array(feats_test)\n",
    "labels_test = np.array(labels_test)\n",
    "feats_test.shape"
   ]
  },
  {
   "cell_type": "markdown",
   "id": "33a1abab-94a9-42b2-ad9b-427acfcf12c3",
   "metadata": {
    "tags": []
   },
   "source": [
    "## The Train Linear Model is used to verify the classification accuracy"
   ]
  },
  {
   "cell_type": "code",
   "execution_count": 9,
   "id": "c5815eb2-f60d-414e-abc2-3372f7368dcd",
   "metadata": {},
   "outputs": [
    {
     "name": "stdout",
     "output_type": "stream",
     "text": [
      "C = 0.009 : 0.8795180722891566\n"
     ]
    }
   ],
   "source": [
    "c = 0.009\n",
    "model_tl = SVC(C = c, kernel ='linear')\n",
    "model_tl.fit(feats_train, labels_train)\n",
    "print(f\"C = {c} : {model_tl.score(feats_test, labels_test)}\")"
   ]
  },
  {
   "cell_type": "code",
   "execution_count": null,
   "id": "7a1d09f0-4640-4b9b-943c-2ee793f92075",
   "metadata": {},
   "outputs": [],
   "source": []
  }
 ],
 "metadata": {
  "kernelspec": {
   "display_name": "Python 3 (ipykernel)",
   "language": "python",
   "name": "python3"
  },
  "language_info": {
   "codemirror_mode": {
    "name": "ipython",
    "version": 3
   },
   "file_extension": ".py",
   "mimetype": "text/x-python",
   "name": "python",
   "nbconvert_exporter": "python",
   "pygments_lexer": "ipython3",
   "version": "3.8.10"
  }
 },
 "nbformat": 4,
 "nbformat_minor": 5
}
